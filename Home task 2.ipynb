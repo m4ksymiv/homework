{
 "cells": [
  {
   "cell_type": "code",
   "execution_count": 366,
   "id": "11bb6c76",
   "metadata": {},
   "outputs": [],
   "source": [
    "import numpy as np \n",
    "import math\n",
    "from IPython.display import Markdown, display\n",
    "from numpy import sqrt \n",
    "\n",
    "def printmd(string):\n",
    "    display(Markdown(string))"
   ]
  },
  {
   "cell_type": "code",
   "execution_count": 367,
   "id": "4e685fa0",
   "metadata": {},
   "outputs": [
    {
     "name": "stdout",
     "output_type": "stream",
     "text": [
      "[ 2  3  4  5  6  7  8  9 10 11 12 13 14 15 16 17 18 19 20 21 22 23 24 25\n",
      " 26 27 28 29 30 31 32 33 34 35 36 37 38 39 40 41 42 43 44 45 46 47 48 49\n",
      " 50 51 52 53 54 55 56 57 58 59 60 61 62 63 64 65 66 67 68 69 70 71 72 73\n",
      " 74 75 76 77 78 79 80 81 82 83 84 85 86 87 88 89 90 91 92 93 94 95 96 97\n",
      " 98 99]\n"
     ]
    }
   ],
   "source": [
    "whole_numbers = np.arange(2,100)\n",
    "print(whole_numbers)"
   ]
  },
  {
   "cell_type": "code",
   "execution_count": 368,
   "id": "59670976",
   "metadata": {},
   "outputs": [],
   "source": [
    "def checkForm(sum): \n",
    " \n",
    "    flag = 0\n",
    "     \n",
    "    for num in range(3,101,2):\n",
    "        if all(num%i!=0 for i in range(2,int(math.sqrt(num))+1)):   #Checking a prime number.\n",
    "            if num + 2 == sum:      #number cannot be 'prime + 2 = sum'\n",
    "                flag = 1\n",
    "                return True\n",
    "                break\n",
    " \n",
    "    if not flag :\n",
    "        return False"
   ]
  },
  {
   "cell_type": "code",
   "execution_count": 369,
   "id": "18f277f2",
   "metadata": {},
   "outputs": [],
   "source": [
    "def secondCheck(sum):\n",
    "    \n",
    "    if sum % 2 == 0: \n",
    "        return False \n",
    "    \n",
    "    elif sum < 5 or sum > 56:\n",
    "        return False  \n",
    "   \n",
    "    elif checkForm(sum) == True:\n",
    "         return False \n",
    "     \n",
    "    else:\n",
    "        return True  "
   ]
  },
  {
   "cell_type": "code",
   "execution_count": 370,
   "id": "962cb47f",
   "metadata": {},
   "outputs": [],
   "source": [
    "test1, test2 = [], []\n",
    "prod1, prod1_1, sum2 = [], [], []\n",
    "\n",
    "\n",
    "for a in whole_numbers:                    \n",
    "    for b in whole_numbers:                \n",
    "          \n",
    "        #first condition. \"Prod: I don't know the numbers\"\n",
    "        if ([a,b] in test1) == False and ([b,a] in test1) == False: \n",
    "            test1.append([a,b])\n",
    "            prod1.append(a*b)\n",
    "             \n",
    "        #second condition. \"Sum: I know it;\"\n",
    "        if secondCheck(a+b) == True:\n",
    "            if ([a,b] in test2) == False and ([b,a] in test2) == False:\n",
    "                test2.append([a,b])\n",
    "                sum2.append(a+b)"
   ]
  },
  {
   "cell_type": "code",
   "execution_count": 371,
   "id": "9e9cbc99",
   "metadata": {},
   "outputs": [],
   "source": [
    "#removed numbers from array that have one solution\n",
    "for i in prod1:\n",
    "    t = 0\n",
    "    for c in prod1:\n",
    "        if i == c:\n",
    "            t = t+1\n",
    "    if t > 1 and (i in prod1_1)== False:\n",
    "        prod1_1.append(i)"
   ]
  },
  {
   "cell_type": "code",
   "execution_count": 372,
   "id": "28ec49aa",
   "metadata": {},
   "outputs": [],
   "source": [
    "#checking for 2**n (where n> 2 and n <7)\n",
    "def tttt(num):\n",
    "    for i in range(1,7):\n",
    "        if num == (2**i) and num > 2:\n",
    "            return True\n",
    "      \n",
    " #checking if a and b are in 2**n (where n> 2 and n <7) format and a prime number\n",
    "def sssss(a,b):\n",
    "    if (all(a%i!=0 for i in range(2,int(math.sqrt(a))+1)) and tttt(b) == True) or (all(b%i!=0 for i in range(2,int(math.sqrt(b))+1)) and tttt(a) == True):\n",
    "        return True\n",
    "\n",
    "def factors(n):\n",
    "    result = []\n",
    "    for i in range(2,n):\n",
    "        while n % i == 0:\n",
    "            n=n/i\n",
    "            result.append(i)\n",
    "            \n",
    "    \n",
    "    if 2 in result and 3 in result:\n",
    "        return True\n",
    "    else: \n",
    "        return False  \n",
    "    \n",
    "tarr1, tarr2 = [],[]\n",
    "#all a + b values with a or b = 2**n (where n> 2 and n <7). And write the values to tarr1\n",
    "for a in test2:\n",
    "    if sssss(a[0],a[1])==True:\n",
    "        tarr1.append(a[0]+a[1])\n",
    "            \n",
    "#Selecting values that = 1 in tarr2. And write the values to tarr2\n",
    "for i in tarr1:\n",
    "    s = 0\n",
    "    for b in tarr1:\n",
    "        if i == b:\n",
    "            s = s + 1         \n",
    "    if s == 1:\n",
    "        tarr2.append(i) "
   ]
  },
  {
   "cell_type": "code",
   "execution_count": 373,
   "id": "b0222ab6",
   "metadata": {},
   "outputs": [
    {
     "name": "stdout",
     "output_type": "stream",
     "text": [
      "Result: [[4, 13]]\n"
     ]
    }
   ],
   "source": [
    "result = []\n",
    "        \n",
    "for t in tarr2: #tarr2 = [17, 41, 29, 53]\n",
    "    temp = 0\n",
    "    tempres = []\n",
    "    for a in test2: #all a and b satisfy condition 2\n",
    "        \n",
    "        #(if a or b = 2**n (where n> 2 and n <7) or there are 2 or 3 in factors a or b) and a+b = [17, 41, 29, 53]\n",
    "        if (sssss(a[0],a[1]) == True or factors(a[0]*a[1]) == True) and a[0]+ a[1] == t:\n",
    "            tempprod = a[0]*a[1] #a * b value\n",
    "            temp2 = 0 \n",
    "            for h in test2:\n",
    "                #checking the number of unique values 1 or 2 solution options\n",
    "                if (h[0]*h[1] == tempprod) and (sssss(h[0],h[1]) == True or factors(h[0]*h[1]) == True):\n",
    "                    temp2 = temp2+1\n",
    "            #If out of all methods a and b there was one solution, then we write\n",
    "            if temp2 == 1:\n",
    "                tempres.append(a)\n",
    "                temp = temp + 1\n",
    "    \n",
    "    #If was only one possible solution for the number\n",
    "    if temp == 1:\n",
    "        result = tempres\n",
    "        \n",
    "            \n",
    "print(f\"Result: {result}\")           "
   ]
  },
  {
   "cell_type": "code",
   "execution_count": 374,
   "id": "5bec48e7",
   "metadata": {},
   "outputs": [
    {
     "data": {
      "text/markdown": [
       "**first condition**"
      ],
      "text/plain": [
       "<IPython.core.display.Markdown object>"
      ]
     },
     "metadata": {},
     "output_type": "display_data"
    },
    {
     "name": "stdout",
     "output_type": "stream",
     "text": [
      "All prod: [12, 16, 18, 20, 24, 28, 30, 32, 36, 40, 42, 44, 45, 48, 50, 52, 54, 56, 60, 63, 64, 66, 68, 70, 72, 75, 76, 78, 80, 81, 84, 88, 90, 92, 96, 98, 99, 100, 102, 104, 105, 108, 110, 112, 114, 116, 117, 120, 124, 126, 128, 130, 132, 135, 136, 138, 140, 144, 147, 148, 150, 152, 153, 154, 156, 160, 162, 164, 165, 168, 170, 171, 172, 174, 175, 176, 180, 182, 184, 186, 188, 189, 190, 192, 195, 196, 198, 200, 204, 207, 208, 210, 216, 220, 222, 224, 225, 228, 230, 231, 232, 234, 238, 240, 243, 245, 246, 248, 250, 252, 255, 256, 258, 260, 261, 264, 266, 270, 272, 273, 275, 276, 279, 280, 282, 285, 286, 288, 290, 294, 296, 297, 300, 304, 306, 308, 310, 312, 315, 320, 322, 324, 325, 328, 330, 336, 340, 342, 344, 345, 348, 350, 351, 352, 357, 360, 364, 368, 370, 372, 374, 375, 376, 378, 380, 384, 385, 390, 392, 396, 399, 400, 405, 406, 408, 410, 414, 416, 418, 420, 425, 429, 430, 432, 434, 435, 440, 441, 442, 444, 448, 450, 455, 456, 459, 460, 462, 464, 465, 468, 470, 475, 476, 480, 483, 484, 486, 490, 492, 494, 495, 496, 500, 504, 506, 510, 512, 513, 516, 518, 520, 522, 525, 528, 532, 539, 540, 544, 546, 550, 552, 558, 560, 561, 564, 567, 570, 572, 574, 576, 580, 585, 588, 592, 594, 595, 598, 600, 602, 608, 609, 612, 616, 620, 621, 624, 627, 630, 637, 638, 640, 644, 646, 648, 650, 651, 656, 658, 660, 663, 665, 666, 672, 675, 676, 680, 682, 684, 686, 688, 690, 693, 696, 700, 702, 704, 714, 715, 720, 726, 728, 729, 735, 736, 738, 740, 741, 744, 748, 750, 752, 754, 756, 759, 760, 765, 768, 770, 774, 780, 782, 783, 784, 792, 798, 800, 806, 810, 812, 814, 816, 819, 820, 825, 828, 832, 836, 837, 840, 846, 850, 855, 858, 860, 864, 868, 870, 874, 880, 882, 884, 888, 891, 896, 897, 900, 902, 910, 912, 918, 920, 924, 928, 930, 935, 936, 940, 945, 946, 950, 952, 957, 960, 962, 966, 968, 969, 972, 975, 980, 984, 986, 988, 990, 992, 1000, 1001, 1008, 1012, 1014, 1020, 1023, 1024, 1026, 1032, 1034, 1035, 1036, 1040, 1044, 1045, 1050, 1053, 1054, 1056, 1064, 1066, 1071, 1078, 1080, 1088, 1089, 1092, 1100, 1102, 1104, 1105, 1110, 1116, 1118, 1120, 1122, 1125, 1128, 1131, 1134, 1140, 1144, 1148, 1150, 1152, 1155, 1156, 1160, 1170, 1173, 1176, 1178, 1184, 1188, 1190, 1196, 1197, 1200, 1204, 1209, 1215, 1216, 1218, 1222, 1224, 1225, 1230, 1232, 1235, 1240, 1242, 1248, 1254, 1258, 1260, 1274, 1275, 1276, 1280, 1287, 1288, 1290, 1292, 1296, 1300, 1302, 1305, 1311, 1312, 1316, 1320, 1323, 1326, 1330, 1332, 1334, 1344, 1350, 1360, 1364, 1365, 1368, 1372, 1376, 1377, 1380, 1386, 1392, 1394, 1395, 1400, 1404, 1406, 1408, 1410, 1425, 1426, 1428, 1430, 1440, 1444, 1449, 1450, 1452, 1456, 1458, 1462, 1470, 1472, 1476, 1479, 1480, 1482, 1485, 1488, 1496, 1500, 1504, 1508, 1512, 1518, 1520, 1530, 1536, 1539, 1540, 1548, 1550, 1554, 1558, 1560, 1564, 1566, 1568, 1575, 1581, 1584, 1596, 1598, 1600, 1610, 1612, 1615, 1617, 1620, 1624, 1628, 1632, 1634, 1638, 1640, 1650, 1653, 1656, 1664, 1666, 1672, 1674, 1680, 1683, 1692, 1700, 1701, 1702, 1710, 1716, 1720, 1722, 1725, 1728, 1736, 1740, 1748, 1750, 1755, 1760, 1764, 1767, 1768, 1776, 1782, 1785, 1786, 1792, 1794, 1798, 1800, 1804, 1806, 1820, 1824, 1827, 1836, 1840, 1848, 1850, 1856, 1860, 1862, 1863, 1870, 1872, 1880, 1881, 1886, 1890, 1892, 1900, 1904, 1911, 1914, 1920, 1924, 1925, 1932, 1936, 1938, 1944, 1950, 1953, 1960, 1968, 1972, 1974, 1976, 1978, 1980, 1984, 1995, 1998, 2000, 2001, 2002, 2016, 2024, 2025, 2028, 2030, 2040, 2046, 2050, 2052, 2058, 2064, 2068, 2070, 2072, 2079, 2080, 2088, 2090, 2100, 2106, 2108, 2112, 2116, 2128, 2132, 2139, 2142, 2145, 2146, 2150, 2156, 2160, 2162, 2170, 2175, 2176, 2178, 2184, 2200, 2204, 2205, 2208, 2210, 2214, 2220, 2232, 2236, 2240, 2244, 2250, 2254, 2256, 2262, 2268, 2275, 2277, 2280, 2288, 2294, 2295, 2296, 2300, 2304, 2310, 2320, 2322, 2325, 2340, 2346, 2349, 2350, 2352, 2356, 2368, 2376, 2378, 2380, 2392, 2394, 2400, 2408, 2418, 2430, 2432, 2436, 2442, 2444, 2448, 2450, 2457, 2460, 2464, 2470, 2475, 2480, 2484, 2494, 2496, 2508, 2511, 2516, 2520, 2538, 2542, 2548, 2550, 2552, 2560, 2565, 2574, 2576, 2580, 2584, 2590, 2592, 2600, 2604, 2610, 2622, 2624, 2632, 2640, 2646, 2652, 2660, 2664, 2666, 2668, 2673, 2688, 2695, 2697, 2700, 2706, 2720, 2726, 2728, 2730, 2736, 2744, 2752, 2754, 2760, 2772, 2784, 2788, 2790, 2800, 2805, 2808, 2812, 2816, 2820, 2835, 2838, 2842, 2850, 2852, 2856, 2860, 2870, 2871, 2880, 2886, 2898, 2904, 2912, 2914, 2916, 2924, 2925, 2940, 2944, 2952, 2958, 2960, 2964, 2970, 2976, 2992, 3000, 3003, 3008, 3010, 3024, 3034, 3036, 3038, 3040, 3060, 3069, 3072, 3078, 3080, 3096, 3102, 3108, 3116, 3120, 3128, 3132, 3135, 3136, 3150, 3162, 3168, 3182, 3185, 3192, 3196, 3198, 3200, 3220, 3230, 3234, 3240, 3256, 3264, 3268, 3276, 3280, 3290, 3300, 3306, 3312, 3315, 3330, 3332, 3344, 3348, 3354, 3360, 3366, 3384, 3400, 3402, 3404, 3420, 3430, 3432, 3440, 3444, 3450, 3456, 3465, 3478, 3480, 3496, 3510, 3520, 3526, 3528, 3534, 3552, 3564, 3570, 3572, 3588, 3600, 3608, 3612, 3626, 3640, 3648, 3654, 3666, 3672, 3680, 3690, 3696, 3705, 3720, 3724, 3726, 3740, 3744, 3760, 3762, 3772, 3780, 3784, 3800, 3822, 3825, 3828, 3840, 3850, 3854, 3864, 3870, 3876, 3888, 3900, 3906, 3920, 3936, 3948, 3956, 3960, 3969, 3990, 4002, 4004, 4018, 4032, 4042, 4048, 4050, 4080, 4092, 4095, 4104, 4116, 4128, 4136, 4140, 4158, 4160, 4176, 4180, 4200, 4212, 4214, 4224, 4230, 4275, 4278, 4284, 4290, 4312, 4320, 4324, 4350, 4356, 4368, 4400, 4410, 4416, 4420, 4455, 4464, 4480, 4488, 4500, 4508, 4512, 4524, 4536, 4550, 4554, 4560, 4590, 4606, 4608, 4620, 4650, 4680, 4692, 4698, 4704, 4752, 4760, 4788, 4800, 4836, 4845, 4851, 4860, 4872, 4896, 4900, 4914, 4928, 4940, 4950, 4968, 4992, 5005, 5016, 5022, 5040, 5096, 5100, 5130, 5148, 5184, 5208, 5220, 5244, 5280, 5292, 5320, 5346, 5376, 5390, 5394, 5400, 5440, 5460, 5472, 5520, 5544, 5568, 5580, 5670, 5700, 5742, 5760, 5796, 5850, 5880, 5940, 5952, 6006, 6048, 6072, 6080, 6120, 6138, 6160, 6237, 6240, 6300, 6336, 6370, 6460, 6468, 6480, 6552, 6624, 6720, 6840, 6930, 7056, 7128, 7200, 7392, 7644, 7920]\n",
      "\n",
      "\n",
      "Total prod: 1068\n",
      "\n",
      "\n"
     ]
    },
    {
     "data": {
      "text/markdown": [
       "**second condition**"
      ],
      "text/plain": [
       "<IPython.core.display.Markdown object>"
      ]
     },
     "metadata": {},
     "output_type": "display_data"
    },
    {
     "name": "stdout",
     "output_type": "stream",
     "text": [
      "All sum: [11 17 23 27 29 35 37 41 47 51 53]\n",
      "\n",
      "\n",
      "Total sum: 11\n",
      "\n",
      "\n"
     ]
    },
    {
     "data": {
      "text/markdown": [
       "**third and fourth condition**"
      ],
      "text/plain": [
       "<IPython.core.display.Markdown object>"
      ]
     },
     "metadata": {},
     "output_type": "display_data"
    },
    {
     "name": "stdout",
     "output_type": "stream",
     "text": [
      "a = 4, b = 13\n"
     ]
    }
   ],
   "source": [
    "printmd(\"**first condition**\")\n",
    "print(f\"All prod: {sorted(prod1_1)}\")\n",
    "print('\\n')\n",
    "print(f\"Total prod: {np.size(np.unique(np.sort(prod1_1)))}\")\n",
    "print('\\n')\n",
    "printmd(\"**second condition**\")\n",
    "print(f\"All sum: {np.unique(np.sort(sum2))}\")\n",
    "print('\\n')\n",
    "print(f\"Total sum: {np.size(np.unique(np.sort(sum2)))}\")\n",
    "print('\\n')\n",
    "printmd(\"**third and fourth condition**\")\n",
    "print(f\"a = {result[0][0]}, b = {result[0][1]}\")\n"
   ]
  },
  {
   "cell_type": "code",
   "execution_count": null,
   "id": "571bd9bb",
   "metadata": {},
   "outputs": [],
   "source": []
  },
  {
   "cell_type": "code",
   "execution_count": null,
   "id": "1b0f18ec",
   "metadata": {},
   "outputs": [],
   "source": []
  }
 ],
 "metadata": {
  "kernelspec": {
   "display_name": "Python 3 (ipykernel)",
   "language": "python",
   "name": "python3"
  },
  "language_info": {
   "codemirror_mode": {
    "name": "ipython",
    "version": 3
   },
   "file_extension": ".py",
   "mimetype": "text/x-python",
   "name": "python",
   "nbconvert_exporter": "python",
   "pygments_lexer": "ipython3",
   "version": "3.9.7"
  }
 },
 "nbformat": 4,
 "nbformat_minor": 5
}
